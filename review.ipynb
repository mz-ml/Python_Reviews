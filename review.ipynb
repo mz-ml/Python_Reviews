{
 "cells": [
  {
   "cell_type": "markdown",
   "metadata": {},
   "source": [
    "# Ducument Clustering and Topic Modeling: User Reviews on Watches"
   ]
  },
  {
   "cell_type": "markdown",
   "metadata": {},
   "source": [
    ">Ming Zhao <br>\n",
    ">December 17, 2021"
   ]
  },
  {
   "cell_type": "markdown",
   "metadata": {},
   "source": [
    "In this project, I clustered reviews into different topics and identified topic keywords by performing NLP techniques (tokenization, stop-word removal, and stemming), extracting Term Frequency-Inverse Document Frequency features, and building K-Means and Latent Dirichlet Allocation. "
   ]
  },
  {
   "cell_type": "markdown",
   "metadata": {},
   "source": [
    "### Contents\n",
    "\n",
    "- Loading Data  \n",
    "\n",
    "- Preprocessing Data  \n",
    "    - Stop-word removal\n",
    "    - Tokenization and stemming\n",
    "    - Term Frequency-Inverse Document Frequency (TF-IDF)\n",
    "\n",
    "- K-Means Clustering  \n",
    "\n",
    "- Latent Dirichlet Allocation (LDA)  \n",
    "   \n",
    "<br>"
   ]
  },
  {
   "cell_type": "code",
   "execution_count": 1,
   "metadata": {},
   "outputs": [],
   "source": [
    "import numpy as np\n",
    "import pandas as pd\n",
    "import matplotlib.pyplot as plt\n",
    "import nltk\n",
    "\n",
    "from nltk.stem.snowball import SnowballStemmer\n",
    "from sklearn.feature_extraction.text import TfidfVectorizer\n",
    "from sklearn.cluster import KMeans\n",
    "from sklearn.decomposition import LatentDirichletAllocation"
   ]
  },
  {
   "cell_type": "code",
   "execution_count": 2,
   "metadata": {},
   "outputs": [],
   "source": [
    "import warnings\n",
    "warnings.filterwarnings(\"ignore\") \n",
    "warnings.simplefilter('ignore')\n",
    "\n",
    "from IPython.display import Image"
   ]
  },
  {
   "cell_type": "markdown",
   "metadata": {},
   "source": [
    "## Loading Data"
   ]
  },
  {
   "cell_type": "code",
   "execution_count": 4,
   "metadata": {},
   "outputs": [],
   "source": [
    "df = pd.read_csv('watch_reviews.tsv', sep='\\t', error_bad_lines=False, warn_bad_lines=False)"
   ]
  },
  {
   "cell_type": "code",
   "execution_count": 5,
   "metadata": {
    "scrolled": true
   },
   "outputs": [
    {
     "data": {
      "text/html": [
       "<div>\n",
       "<style scoped>\n",
       "    .dataframe tbody tr th:only-of-type {\n",
       "        vertical-align: middle;\n",
       "    }\n",
       "\n",
       "    .dataframe tbody tr th {\n",
       "        vertical-align: top;\n",
       "    }\n",
       "\n",
       "    .dataframe thead th {\n",
       "        text-align: right;\n",
       "    }\n",
       "</style>\n",
       "<table border=\"1\" class=\"dataframe\">\n",
       "  <thead>\n",
       "    <tr style=\"text-align: right;\">\n",
       "      <th></th>\n",
       "      <th>marketplace</th>\n",
       "      <th>customer_id</th>\n",
       "      <th>review_id</th>\n",
       "      <th>product_id</th>\n",
       "      <th>product_parent</th>\n",
       "      <th>product_title</th>\n",
       "      <th>product_category</th>\n",
       "      <th>star_rating</th>\n",
       "      <th>helpful_votes</th>\n",
       "      <th>total_votes</th>\n",
       "      <th>vine</th>\n",
       "      <th>verified_purchase</th>\n",
       "      <th>review_headline</th>\n",
       "      <th>review_body</th>\n",
       "      <th>review_date</th>\n",
       "    </tr>\n",
       "  </thead>\n",
       "  <tbody>\n",
       "    <tr>\n",
       "      <th>960201</th>\n",
       "      <td>US</td>\n",
       "      <td>40571775</td>\n",
       "      <td>R2B1G5650WWFCE</td>\n",
       "      <td>B00005QEME</td>\n",
       "      <td>252821780</td>\n",
       "      <td>Men's Timex Internet Messenger Sport Watch</td>\n",
       "      <td>Watches</td>\n",
       "      <td>5</td>\n",
       "      <td>3</td>\n",
       "      <td>16</td>\n",
       "      <td>N</td>\n",
       "      <td>N</td>\n",
       "      <td>This is a great watch</td>\n",
       "      <td>Dear Targeteers,&lt;BR&gt;This watch is exelent. it ...</td>\n",
       "      <td>2001-11-06</td>\n",
       "    </tr>\n",
       "    <tr>\n",
       "      <th>960202</th>\n",
       "      <td>US</td>\n",
       "      <td>44474855</td>\n",
       "      <td>R2MMGPUWXXOFI2</td>\n",
       "      <td>B00004YK0H</td>\n",
       "      <td>118389241</td>\n",
       "      <td>Energizer 393 Button Cell Battery</td>\n",
       "      <td>Watches</td>\n",
       "      <td>4</td>\n",
       "      <td>0</td>\n",
       "      <td>0</td>\n",
       "      <td>N</td>\n",
       "      <td>N</td>\n",
       "      <td>Now watt a minute here.</td>\n",
       "      <td>In the old days, the common hearing battery in...</td>\n",
       "      <td>2001-04-05</td>\n",
       "    </tr>\n",
       "    <tr>\n",
       "      <th>960203</th>\n",
       "      <td>US</td>\n",
       "      <td>44474855</td>\n",
       "      <td>R2BZMVAERMRUDE</td>\n",
       "      <td>B00004YK0H</td>\n",
       "      <td>118389241</td>\n",
       "      <td>Energizer 393 Button Cell Battery</td>\n",
       "      <td>Watches</td>\n",
       "      <td>4</td>\n",
       "      <td>5</td>\n",
       "      <td>7</td>\n",
       "      <td>N</td>\n",
       "      <td>N</td>\n",
       "      <td>1/10 Watt difference for hearing aids</td>\n",
       "      <td>I have found that a #393 watch battery is the ...</td>\n",
       "      <td>2001-04-05</td>\n",
       "    </tr>\n",
       "  </tbody>\n",
       "</table>\n",
       "</div>"
      ],
      "text/plain": [
       "       marketplace  customer_id       review_id  product_id  product_parent  \\\n",
       "960201          US     40571775  R2B1G5650WWFCE  B00005QEME       252821780   \n",
       "960202          US     44474855  R2MMGPUWXXOFI2  B00004YK0H       118389241   \n",
       "960203          US     44474855  R2BZMVAERMRUDE  B00004YK0H       118389241   \n",
       "\n",
       "                                     product_title product_category  \\\n",
       "960201  Men's Timex Internet Messenger Sport Watch          Watches   \n",
       "960202           Energizer 393 Button Cell Battery          Watches   \n",
       "960203           Energizer 393 Button Cell Battery          Watches   \n",
       "\n",
       "        star_rating  helpful_votes  total_votes vine verified_purchase  \\\n",
       "960201            5              3           16    N                 N   \n",
       "960202            4              0            0    N                 N   \n",
       "960203            4              5            7    N                 N   \n",
       "\n",
       "                              review_headline  \\\n",
       "960201                  This is a great watch   \n",
       "960202                Now watt a minute here.   \n",
       "960203  1/10 Watt difference for hearing aids   \n",
       "\n",
       "                                              review_body review_date  \n",
       "960201  Dear Targeteers,<BR>This watch is exelent. it ...  2001-11-06  \n",
       "960202  In the old days, the common hearing battery in...  2001-04-05  \n",
       "960203  I have found that a #393 watch battery is the ...  2001-04-05  "
      ]
     },
     "execution_count": 5,
     "metadata": {},
     "output_type": "execute_result"
    }
   ],
   "source": [
    "df.tail(3)"
   ]
  },
  {
   "cell_type": "code",
   "execution_count": 6,
   "metadata": {},
   "outputs": [
    {
     "data": {
      "text/plain": [
       "marketplace            0\n",
       "customer_id            0\n",
       "review_id              0\n",
       "product_id             0\n",
       "product_parent         0\n",
       "product_title          2\n",
       "product_category       0\n",
       "star_rating            0\n",
       "helpful_votes          0\n",
       "total_votes            0\n",
       "vine                   0\n",
       "verified_purchase      0\n",
       "review_headline        7\n",
       "review_body          148\n",
       "review_date            4\n",
       "dtype: int64"
      ]
     },
     "execution_count": 6,
     "metadata": {},
     "output_type": "execute_result"
    }
   ],
   "source": [
    "# Check missing values\n",
    "df.isnull().sum()"
   ]
  },
  {
   "cell_type": "code",
   "execution_count": 7,
   "metadata": {},
   "outputs": [],
   "source": [
    "# Remove missing values\n",
    "df.dropna(subset=['review_body'], inplace=True)"
   ]
  },
  {
   "cell_type": "code",
   "execution_count": 8,
   "metadata": {},
   "outputs": [],
   "source": [
    "df.reset_index(inplace=True, drop=True)"
   ]
  },
  {
   "cell_type": "code",
   "execution_count": 9,
   "metadata": {
    "scrolled": true
   },
   "outputs": [
    {
     "name": "stdout",
     "output_type": "stream",
     "text": [
      "<class 'pandas.core.frame.DataFrame'>\n",
      "RangeIndex: 960056 entries, 0 to 960055\n",
      "Data columns (total 15 columns):\n",
      " #   Column             Non-Null Count   Dtype \n",
      "---  ------             --------------   ----- \n",
      " 0   marketplace        960056 non-null  object\n",
      " 1   customer_id        960056 non-null  int64 \n",
      " 2   review_id          960056 non-null  object\n",
      " 3   product_id         960056 non-null  object\n",
      " 4   product_parent     960056 non-null  int64 \n",
      " 5   product_title      960054 non-null  object\n",
      " 6   product_category   960056 non-null  object\n",
      " 7   star_rating        960056 non-null  int64 \n",
      " 8   helpful_votes      960056 non-null  int64 \n",
      " 9   total_votes        960056 non-null  int64 \n",
      " 10  vine               960056 non-null  object\n",
      " 11  verified_purchase  960056 non-null  object\n",
      " 12  review_headline    960049 non-null  object\n",
      " 13  review_body        960056 non-null  object\n",
      " 14  review_date        960052 non-null  object\n",
      "dtypes: int64(5), object(10)\n",
      "memory usage: 109.9+ MB\n"
     ]
    }
   ],
   "source": [
    "df.info()"
   ]
  },
  {
   "cell_type": "code",
   "execution_count": 10,
   "metadata": {},
   "outputs": [
    {
     "data": {
      "text/plain": [
       "Watches    960056\n",
       "Name: product_category, dtype: int64"
      ]
     },
     "execution_count": 10,
     "metadata": {},
     "output_type": "execute_result"
    }
   ],
   "source": [
    "df['product_category'].value_counts()"
   ]
  },
  {
   "cell_type": "code",
   "execution_count": 11,
   "metadata": {},
   "outputs": [],
   "source": [
    "# Use the first 1000 data as the training data\n",
    "data = df.loc[0:999, 'review_body'].tolist()\n",
    "##data=df[:1000].review_body.tolist()"
   ]
  },
  {
   "cell_type": "code",
   "execution_count": 12,
   "metadata": {},
   "outputs": [
    {
     "data": {
      "text/plain": [
       "['Absolutely love this watch! Get compliments almost every time I wear it. Dainty.',\n",
       " 'I love this watch it keeps time wonderfully.',\n",
       " 'Scratches',\n",
       " 'It works well on me. However, I found cheaper prices in other places after making the purchase',\n",
       " \"Beautiful watch face.  The band looks nice all around.  The links do make that squeaky cheapo noise when you swing it back and forth on your wrist which can be embarrassing in front of watch enthusiasts.  However, to the naked eye from afar, you can't tell the links are cheap or folded because it is well polished and brushed and the folds are pretty tight for the most part.<br /><br />I love the new member of my collection and it looks great.  I've had it for about a week and so far it has kept good time despite day 1 which is typical of a new mechanical watch\"]"
      ]
     },
     "execution_count": 12,
     "metadata": {},
     "output_type": "execute_result"
    }
   ],
   "source": [
    "data[:5]"
   ]
  },
  {
   "cell_type": "markdown",
   "metadata": {},
   "source": [
    "## Preprocessing Data"
   ]
  },
  {
   "cell_type": "markdown",
   "metadata": {},
   "source": [
    "### Stop-word removal, Tokenizing, Stemming"
   ]
  },
  {
   "cell_type": "markdown",
   "metadata": {},
   "source": [
    "Tokenizinig is a process of splitting a text into individual words or sequences of words (N-grams). Each of these terms or smaller units are called tokens.  <br> \n",
    "-1-grams: \"I like this product\" -> [I, like, this, product] <br>\n",
    "-2-grams: \"I like this product\" -> [I like, like this, this product] <br>\n",
    "-3-grams: \"I like this product\" -> [I like this, like this product] <br>\n",
    "\n",
    "Stemming is the process of breaking a word down into its root.  <br>\n",
    "-for example, the words care, cared and caring lie under the same stem ‘care’. <br>\n",
    "\n",
    "Stopwords are the words like \"in\", \"a\", and \"the\" which do not convey any significant meaning. <br>\n"
   ]
  },
  {
   "cell_type": "code",
   "execution_count": 13,
   "metadata": {},
   "outputs": [
    {
     "name": "stdout",
     "output_type": "stream",
     "text": [
      "We use 183 stop-words.\n",
      "['i', 'me', 'my', 'myself', 'we', 'our', 'ours', 'ourselves', 'you', \"you're\", \"you've\", \"you'll\", \"you'd\", 'your', 'yours', 'yourself', 'yourselves', 'he', 'him', 'his', 'himself', 'she', \"she's\", 'her', 'hers', 'herself', 'it', \"it's\", 'its', 'itself', 'they', 'them', 'their', 'theirs', 'themselves', 'what', 'which', 'who', 'whom', 'this', 'that', \"that'll\", 'these', 'those', 'am', 'is', 'are', 'was', 'were', 'be', 'been', 'being', 'have', 'has', 'had', 'having', 'do', 'does', 'did', 'doing', 'a', 'an', 'the', 'and', 'but', 'if', 'or', 'because', 'as', 'until', 'while', 'of', 'at', 'by', 'for', 'with', 'about', 'against', 'between', 'into', 'through', 'during', 'before', 'after', 'above', 'below', 'to', 'from', 'up', 'down', 'in', 'out', 'on', 'off', 'over', 'under', 'again', 'further', 'then', 'once', 'here', 'there', 'when', 'where', 'why', 'how', 'all', 'any', 'both', 'each', 'few', 'more', 'most', 'other', 'some', 'such', 'no', 'nor', 'not', 'only', 'own', 'same', 'so', 'than', 'too', 'very', 's', 't', 'can', 'will', 'just', 'don', \"don't\", 'should', \"should've\", 'now', 'd', 'll', 'm', 'o', 're', 've', 'y', 'ain', 'aren', \"aren't\", 'couldn', \"couldn't\", 'didn', \"didn't\", 'doesn', \"doesn't\", 'hadn', \"hadn't\", 'hasn', \"hasn't\", 'haven', \"haven't\", 'isn', \"isn't\", 'ma', 'mightn', \"mightn't\", 'mustn', \"mustn't\", 'needn', \"needn't\", 'shan', \"shan't\", 'shouldn', \"shouldn't\", 'wasn', \"wasn't\", 'weren', \"weren't\", 'won', \"won't\", 'wouldn', \"wouldn't\", 'watch', 'br', \"'s\", \"'m\"]\n"
     ]
    }
   ],
   "source": [
    "# Use nltk's English stopwords \n",
    "stopwords = nltk.corpus.stopwords.words('english')\n",
    "# Extra stopwords\n",
    "stopwords.append(\"watch\") #all for watches\n",
    "stopwords.append(\"br\") #html <br>\n",
    "stopwords.append(\"'s\") #he's or she's\n",
    "stopwords.append(\"'m\") #I'm\n",
    "\n",
    "print(\"We use \" + str(len(stopwords)) + \" stop-words.\")\n",
    "print(stopwords)"
   ]
  },
  {
   "cell_type": "code",
   "execution_count": 14,
   "metadata": {},
   "outputs": [],
   "source": [
    "stemmer = SnowballStemmer(\"english\")\n",
    "\n",
    "# Tokenization anf stemming\n",
    "def tokenization_and_stemming(text):\n",
    "    \n",
    "# exclude stop-words and tokenize the document, generate a list of string\n",
    "    tokens = []\n",
    "    for word in nltk.word_tokenize(text):\n",
    "        if word.lower() not in stopwords:\n",
    "            tokens.append(word.lower())\n",
    "    ## equivalently,\n",
    "    ## tokens = [word for word in nltk.word_tokenize(text) if word.lower() not in stopwords]\n",
    "\n",
    "# filter out any tokens not containing letters (e.g. numeric tokens, raw punctuation)\n",
    "    filtered_tokens = []\n",
    "    for token in tokens:\n",
    "        if token.isalpha():\n",
    "            filtered_tokens.append(token)\n",
    "    ## equivalently,\n",
    "    ## filtered_tokens = [token for token in tokens if token.isalpha()]\n",
    "    \n",
    "# stemming    \n",
    "    stems = [stemmer.stem(t) for t in filtered_tokens] #list comprehension\n",
    "    ## equivalently,\n",
    "    ## stems = []\n",
    "    ## for t in filtered_tokens:\n",
    "        ## stems.append(stemmer.stem(t))\n",
    "        \n",
    "    return stems\n"
   ]
  },
  {
   "cell_type": "code",
   "execution_count": 15,
   "metadata": {},
   "outputs": [
    {
     "data": {
      "text/plain": [
       "['absolut',\n",
       " 'love',\n",
       " 'get',\n",
       " 'compliment',\n",
       " 'almost',\n",
       " 'everi',\n",
       " 'time',\n",
       " 'wear',\n",
       " 'dainti']"
      ]
     },
     "execution_count": 15,
     "metadata": {},
     "output_type": "execute_result"
    }
   ],
   "source": [
    "tokenization_and_stemming(data[0])"
   ]
  },
  {
   "cell_type": "code",
   "execution_count": 16,
   "metadata": {
    "scrolled": true
   },
   "outputs": [
    {
     "data": {
      "text/plain": [
       "'Absolutely love this watch! Get compliments almost every time I wear it. Dainty.'"
      ]
     },
     "execution_count": 16,
     "metadata": {},
     "output_type": "execute_result"
    }
   ],
   "source": [
    "data[0]"
   ]
  },
  {
   "cell_type": "markdown",
   "metadata": {},
   "source": [
    "### TF-IDF"
   ]
  },
  {
   "cell_type": "markdown",
   "metadata": {},
   "source": [
    "Term Frequency-Inverse Document Frequency is a numerical statistic that is intended to reflect how important a word is to a document in a collection or corpus. It is often used as a weighting factor in searches of information retrieval, text mining, and user modeling. The tf–idf value increases proportionally to the number of times a word appears in the document and is offset by the number of documents in the corpus that contain the word, which helps to adjust for the fact that some words appear more frequently in general. <br>\n",
    "\n",
    "TF: Term Frequency <br>\n",
    "IDF: Inverse Documment Frequency <br>\n",
    "TF-IDF is the product of the two statistics, TF and IDF.  <br>\n",
    "\n",
    "$TF(wordA\\_in\\_docB) = \\frac{count \\space of \\space wordA \\space in \\space docB}{count \\space of \\space total \\space words \\space in \\space docB}$ <br>\n",
    "\n",
    "$IDF(wordA) = log(\\frac{number \\space of \\space total \\space documents \\space in \\space corpus}{number \\space of \\space documents \\space where \\space wordA \\space appears \\space + \\space 1})$\n",
    "\n",
    "$TF-IDF(wordA\\_in\\_docB) = TF(wordA\\_in\\_docB) \\times IDF(wordA)$"
   ]
  },
  {
   "cell_type": "code",
   "execution_count": 17,
   "metadata": {},
   "outputs": [
    {
     "name": "stdout",
     "output_type": "stream",
     "text": [
      "In total, there are 1000 reviews and 239 terms.\n"
     ]
    }
   ],
   "source": [
    "# define vectorizer parameters\n",
    "# TfidfVectorizer will help us to create TF-IDF matrix\n",
    "# max_df: maximum document frequency for the given word\n",
    "# min_df: minimum document frequency for the given word\n",
    "# max_features: maximum number of words\n",
    "# use_idf: if not true, we only calculate tf\n",
    "# stop_words: built-in stop words\n",
    "# tokenizer: how to tokenize the document\n",
    "# ngram_range: (min_value, max_value), eg. (1,3) means the result will include 1-gram, 2-gram, 3-gram\n",
    "\n",
    "tfidf_model = TfidfVectorizer(max_df=0.99, min_df=0.01, max_features=1000,\n",
    "                              use_idf=True, ngram_range=(1,1),\n",
    "                              stop_words=\"english\",\n",
    "                              tokenizer=tokenization_and_stemming)\n",
    "\n",
    "tfidf_matrix = tfidf_model.fit_transform(data) #fit the vectorizer to data\n",
    "\n",
    "print(\"In total, there are \" + str(tfidf_matrix.shape[0]) + \" reviews and \" \\\n",
    "      + str(tfidf_matrix.shape[1]) + \" terms.\")\n"
   ]
  },
  {
   "cell_type": "code",
   "execution_count": 18,
   "metadata": {},
   "outputs": [
    {
     "data": {
      "text/plain": [
       "(1000, 239)"
      ]
     },
     "execution_count": 18,
     "metadata": {},
     "output_type": "execute_result"
    }
   ],
   "source": [
    "tfidf_matrix.shape\n",
    "## Y.shape is (n,m)\n",
    "## Y.shape[0] is n rows\n",
    "## Y.shape[1] is m columns"
   ]
  },
  {
   "cell_type": "code",
   "execution_count": 19,
   "metadata": {},
   "outputs": [
    {
     "data": {
      "text/plain": [
       "matrix([[0.       , 0.5125863, 0.       , ..., 0.       , 0.       ,\n",
       "         0.       ],\n",
       "        [0.       , 0.       , 0.       , ..., 0.       , 0.       ,\n",
       "         0.       ],\n",
       "        [0.       , 0.       , 0.       , ..., 0.       , 0.       ,\n",
       "         0.       ],\n",
       "        ...,\n",
       "        [0.       , 0.       , 0.       , ..., 0.       , 0.       ,\n",
       "         0.       ],\n",
       "        [0.       , 0.       , 0.       , ..., 0.       , 0.       ,\n",
       "         0.       ],\n",
       "        [0.       , 0.       , 0.       , ..., 0.       , 0.       ,\n",
       "         0.       ]])"
      ]
     },
     "execution_count": 19,
     "metadata": {},
     "output_type": "execute_result"
    }
   ],
   "source": [
    "tfidf_matrix.todense() # todense returns a matrix"
   ]
  },
  {
   "cell_type": "code",
   "execution_count": 20,
   "metadata": {},
   "outputs": [
    {
     "data": {
      "text/plain": [
       "numpy.ndarray"
      ]
     },
     "execution_count": 20,
     "metadata": {},
     "output_type": "execute_result"
    }
   ],
   "source": [
    "type(tfidf_matrix.toarray()) # toarray returns a ndarray"
   ]
  },
  {
   "cell_type": "code",
   "execution_count": 21,
   "metadata": {},
   "outputs": [],
   "source": [
    "# get feature names\n",
    "tf_selected_words = tfidf_model.get_feature_names()"
   ]
  },
  {
   "cell_type": "code",
   "execution_count": 22,
   "metadata": {},
   "outputs": [
    {
     "data": {
      "text/plain": [
       "239"
      ]
     },
     "execution_count": 22,
     "metadata": {},
     "output_type": "execute_result"
    }
   ],
   "source": [
    "len(tf_selected_words)"
   ]
  },
  {
   "cell_type": "code",
   "execution_count": 23,
   "metadata": {},
   "outputs": [
    {
     "data": {
      "text/plain": [
       "['abl',\n",
       " 'absolut',\n",
       " 'accur',\n",
       " 'actual',\n",
       " 'adjust',\n",
       " 'alarm',\n",
       " 'alreadi',\n",
       " 'alway',\n",
       " 'amaz',\n",
       " 'amazon',\n",
       " 'anoth',\n",
       " 'arm',\n",
       " 'arriv',\n",
       " 'automat',\n",
       " 'awesom',\n",
       " 'bad',\n",
       " 'band',\n",
       " 'batteri',\n",
       " 'beauti',\n",
       " 'best']"
      ]
     },
     "execution_count": 23,
     "metadata": {},
     "output_type": "execute_result"
    }
   ],
   "source": [
    "tf_selected_words[:20]"
   ]
  },
  {
   "cell_type": "markdown",
   "metadata": {},
   "source": [
    "## K-means Clustering"
   ]
  },
  {
   "cell_type": "markdown",
   "metadata": {},
   "source": [
    "**K-means** is an unsupervised learning algorithm. <br>\n",
    "It aims to partition n observations into k clusters in which each observation belongs to the cluster with the nearest mean (also called the cluster center or cluster centroid). <br>\n",
    "It minimizes the within-cluster sum of squared errors. <br>"
   ]
  },
  {
   "cell_type": "code",
   "execution_count": 26,
   "metadata": {
    "scrolled": true
   },
   "outputs": [
    {
     "data": {
      "text/html": [
       "<img src=\"https://i.stack.imgur.com/mhwgB.png\" width=\"400\" height=\"200\"/>"
      ],
      "text/plain": [
       "<IPython.core.display.Image object>"
      ]
     },
     "execution_count": 26,
     "metadata": {},
     "output_type": "execute_result"
    }
   ],
   "source": [
    "Image(url= \"https://i.stack.imgur.com/mhwgB.png\"\n",
    ",width=400, height=200)"
   ]
  },
  {
   "cell_type": "code",
   "execution_count": 27,
   "metadata": {
    "scrolled": true
   },
   "outputs": [
    {
     "data": {
      "text/html": [
       "<img src=\"https://stanford.edu/~cpiech/cs221/img/kmeansViz.png\" width=\"400\" height=\"200\"/>"
      ],
      "text/plain": [
       "<IPython.core.display.Image object>"
      ]
     },
     "execution_count": 27,
     "metadata": {},
     "output_type": "execute_result"
    }
   ],
   "source": [
    "Image(url= \"https://stanford.edu/~cpiech/cs221/img/kmeansViz.png\"\n",
    ",width=400, height=200)"
   ]
  },
  {
   "cell_type": "code",
   "execution_count": 28,
   "metadata": {
    "scrolled": true
   },
   "outputs": [
    {
     "data": {
      "text/html": [
       "<img src=\"https://www.unioviedo.es/compnum/labs/new/d1.png\" width=\"400\" height=\"200\"/>"
      ],
      "text/plain": [
       "<IPython.core.display.Image object>"
      ]
     },
     "execution_count": 28,
     "metadata": {},
     "output_type": "execute_result"
    }
   ],
   "source": [
    "Image(url= \"https://www.unioviedo.es/compnum/labs/new/d1.png\"\n",
    ",width=400, height=200)"
   ]
  },
  {
   "cell_type": "markdown",
   "metadata": {},
   "source": [
    "The objects are represented with $d$ dimension vectors $\\left(\\mathbf{x}_{1},\\mathbf{x}_{2},\\ldots,\\mathbf{x}_{n}\\right)$ and the algorithm k-means builds $k$ groups where the sum of the distances of the objects to its centroid is minimized within each group $\\mathbf{S}=\\left\\{ S_{1},S_{2},\\ldots,S_{k}\\right\\}$. The problem can be formulated:\n",
    "\n",
    "$$\\underset{\\mathbf{S}}{\\mathrm{min}}\\; E\\left(\\boldsymbol{\\mu_{i}}\\right)=\\underset{\\mathbf{S}}{\\mathrm{min}}\\sum_{i=1}^{k}\\sum_{\\mathbf{x}_{j}\\in S_i}\\left\\Vert \\mathbf{x}_{j}-\\boldsymbol{\\mu}_{i}\\right\\Vert ^{2}\n",
    "\\quad$$\n",
    "\n",
    "where $\\mathbf{S}$ is the dataset whose elements are the objects \n",
    "$\\mathbf{x}_{j}$ represented by vectors, where each of its elements represents a characteristic or attribute. We will have $k$ groups or clusters with their corresponding centroid $\\boldsymbol{\\mu_{i}}$."
   ]
  },
  {
   "cell_type": "code",
   "execution_count": 29,
   "metadata": {},
   "outputs": [
    {
     "data": {
      "text/plain": [
       "KMeans(init='random', n_clusters=5, random_state=1991)"
      ]
     },
     "execution_count": 29,
     "metadata": {},
     "output_type": "execute_result"
    }
   ],
   "source": [
    "# k-means clustering\n",
    "num_clusters = 5\n",
    "km = KMeans(n_clusters = num_clusters, init='random', random_state=1991)\n",
    "km.fit(tfidf_matrix)"
   ]
  },
  {
   "cell_type": "code",
   "execution_count": 30,
   "metadata": {},
   "outputs": [],
   "source": [
    "clusters = km.labels_.tolist()"
   ]
  },
  {
   "cell_type": "code",
   "execution_count": 31,
   "metadata": {},
   "outputs": [],
   "source": [
    "# create data frame\n",
    "reviews = {'review': df[:1000].review_body, 'cluster': clusters} # dictionary\n",
    "frame = pd.DataFrame(reviews)"
   ]
  },
  {
   "cell_type": "code",
   "execution_count": 32,
   "metadata": {},
   "outputs": [
    {
     "data": {
      "text/html": [
       "<div>\n",
       "<style scoped>\n",
       "    .dataframe tbody tr th:only-of-type {\n",
       "        vertical-align: middle;\n",
       "    }\n",
       "\n",
       "    .dataframe tbody tr th {\n",
       "        vertical-align: top;\n",
       "    }\n",
       "\n",
       "    .dataframe thead th {\n",
       "        text-align: right;\n",
       "    }\n",
       "</style>\n",
       "<table border=\"1\" class=\"dataframe\">\n",
       "  <thead>\n",
       "    <tr style=\"text-align: right;\">\n",
       "      <th></th>\n",
       "      <th>review</th>\n",
       "      <th>cluster</th>\n",
       "    </tr>\n",
       "  </thead>\n",
       "  <tbody>\n",
       "    <tr>\n",
       "      <th>0</th>\n",
       "      <td>Absolutely love this watch! Get compliments al...</td>\n",
       "      <td>2</td>\n",
       "    </tr>\n",
       "    <tr>\n",
       "      <th>1</th>\n",
       "      <td>I love this watch it keeps time wonderfully.</td>\n",
       "      <td>2</td>\n",
       "    </tr>\n",
       "    <tr>\n",
       "      <th>2</th>\n",
       "      <td>Scratches</td>\n",
       "      <td>0</td>\n",
       "    </tr>\n",
       "    <tr>\n",
       "      <th>3</th>\n",
       "      <td>It works well on me. However, I found cheaper ...</td>\n",
       "      <td>0</td>\n",
       "    </tr>\n",
       "    <tr>\n",
       "      <th>4</th>\n",
       "      <td>Beautiful watch face.  The band looks nice all...</td>\n",
       "      <td>1</td>\n",
       "    </tr>\n",
       "    <tr>\n",
       "      <th>5</th>\n",
       "      <td>i love this watch for my purpose, about the pe...</td>\n",
       "      <td>2</td>\n",
       "    </tr>\n",
       "    <tr>\n",
       "      <th>6</th>\n",
       "      <td>for my wife and she loved it, looks great and ...</td>\n",
       "      <td>2</td>\n",
       "    </tr>\n",
       "    <tr>\n",
       "      <th>7</th>\n",
       "      <td>I was about to buy this thinking it was a Swis...</td>\n",
       "      <td>0</td>\n",
       "    </tr>\n",
       "    <tr>\n",
       "      <th>8</th>\n",
       "      <td>Watch is perfect. Rugged with the metal &amp;#34;B...</td>\n",
       "      <td>0</td>\n",
       "    </tr>\n",
       "    <tr>\n",
       "      <th>9</th>\n",
       "      <td>Great quality and build.&lt;br /&gt;The motors are r...</td>\n",
       "      <td>0</td>\n",
       "    </tr>\n",
       "  </tbody>\n",
       "</table>\n",
       "</div>"
      ],
      "text/plain": [
       "                                              review  cluster\n",
       "0  Absolutely love this watch! Get compliments al...        2\n",
       "1       I love this watch it keeps time wonderfully.        2\n",
       "2                                          Scratches        0\n",
       "3  It works well on me. However, I found cheaper ...        0\n",
       "4  Beautiful watch face.  The band looks nice all...        1\n",
       "5  i love this watch for my purpose, about the pe...        2\n",
       "6  for my wife and she loved it, looks great and ...        2\n",
       "7  I was about to buy this thinking it was a Swis...        0\n",
       "8  Watch is perfect. Rugged with the metal &#34;B...        0\n",
       "9  Great quality and build.<br />The motors are r...        0"
      ]
     },
     "execution_count": 32,
     "metadata": {},
     "output_type": "execute_result"
    }
   ],
   "source": [
    "frame.head(10)"
   ]
  },
  {
   "cell_type": "code",
   "execution_count": 33,
   "metadata": {},
   "outputs": [
    {
     "name": "stdout",
     "output_type": "stream",
     "text": [
      "Number of reviews included in each cluster:\n"
     ]
    },
    {
     "data": {
      "text/html": [
       "<div>\n",
       "<style scoped>\n",
       "    .dataframe tbody tr th:only-of-type {\n",
       "        vertical-align: middle;\n",
       "    }\n",
       "\n",
       "    .dataframe tbody tr th {\n",
       "        vertical-align: top;\n",
       "    }\n",
       "\n",
       "    .dataframe thead th {\n",
       "        text-align: right;\n",
       "    }\n",
       "</style>\n",
       "<table border=\"1\" class=\"dataframe\">\n",
       "  <thead>\n",
       "    <tr style=\"text-align: right;\">\n",
       "      <th></th>\n",
       "      <th>cluster</th>\n",
       "    </tr>\n",
       "  </thead>\n",
       "  <tbody>\n",
       "    <tr>\n",
       "      <th>0</th>\n",
       "      <td>548</td>\n",
       "    </tr>\n",
       "    <tr>\n",
       "      <th>1</th>\n",
       "      <td>194</td>\n",
       "    </tr>\n",
       "    <tr>\n",
       "      <th>2</th>\n",
       "      <td>114</td>\n",
       "    </tr>\n",
       "    <tr>\n",
       "      <th>4</th>\n",
       "      <td>81</td>\n",
       "    </tr>\n",
       "    <tr>\n",
       "      <th>3</th>\n",
       "      <td>63</td>\n",
       "    </tr>\n",
       "  </tbody>\n",
       "</table>\n",
       "</div>"
      ],
      "text/plain": [
       "   cluster\n",
       "0      548\n",
       "1      194\n",
       "2      114\n",
       "4       81\n",
       "3       63"
      ]
     },
     "execution_count": 33,
     "metadata": {},
     "output_type": "execute_result"
    }
   ],
   "source": [
    "print(\"Number of reviews included in each cluster:\")\n",
    "frame['cluster'].value_counts().to_frame()"
   ]
  },
  {
   "cell_type": "code",
   "execution_count": 34,
   "metadata": {
    "scrolled": true
   },
   "outputs": [
    {
     "data": {
      "text/plain": [
       "array([[0.00466197, 0.00485654, 0.0002854 , ..., 0.00506218, 0.01268035,\n",
       "        0.01135057],\n",
       "       [0.00794106, 0.00333389, 0.01235751, ..., 0.00930425, 0.02610331,\n",
       "        0.02771646],\n",
       "       [0.        , 0.03673336, 0.        , ..., 0.01189996, 0.01672348,\n",
       "        0.        ],\n",
       "       [0.        , 0.        , 0.        , ..., 0.        , 0.00771798,\n",
       "        0.        ],\n",
       "       [0.        , 0.        , 0.        , ..., 0.        , 0.00809634,\n",
       "        0.        ]])"
      ]
     },
     "execution_count": 34,
     "metadata": {},
     "output_type": "execute_result"
    }
   ],
   "source": [
    "km.cluster_centers_"
   ]
  },
  {
   "cell_type": "code",
   "execution_count": 35,
   "metadata": {},
   "outputs": [
    {
     "data": {
      "text/plain": [
       "(5, 239)"
      ]
     },
     "execution_count": 35,
     "metadata": {},
     "output_type": "execute_result"
    }
   ],
   "source": [
    "km.cluster_centers_.shape\n",
    "# 5 clusters and 239 terms\n",
    "# -> assumption: the cluster centroid can represent the cluster\n",
    "# -> the greater the tf-idf is, the more representative the term is for this document\n",
    "# -> select 6 terms that have the greatest values of tf-idf to represent the cluster"
   ]
  },
  {
   "cell_type": "code",
   "execution_count": 36,
   "metadata": {},
   "outputs": [],
   "source": [
    "# km.cluster_centers_ denotes the importances of each item in cluster.\n",
    "# We need to sort it in decreasing-order and get the top items.\n",
    "\n",
    "order_centroids = km.cluster_centers_.argsort()[:, ::-1] \n",
    "## order_centroids = np.argsort(-km.cluster_centers_)"
   ]
  },
  {
   "cell_type": "code",
   "execution_count": 37,
   "metadata": {
    "scrolled": true
   },
   "outputs": [],
   "source": [
    "###print(\"<Document Clustering Result by K-means>\")\n",
    "###print ()\n",
    "Cluster_keywords_summary = {} #dictionary\n",
    "for i in range(num_clusters):\n",
    "    Cluster_keywords_summary[i] = [] #the ith key has an empty list of values\n",
    "    ###print (\"Cluster \" + str(i) + \" words: \", end='') \n",
    "    for ind in order_centroids[i, :6]: \n",
    "        Cluster_keywords_summary[i].append(tf_selected_words[ind])       \n",
    "        ###print (tf_selected_words[ind] + \",\", end='')\n",
    "    ###print ()\n",
    "    ###cluster_reviews = frame[frame.cluster==i].review.tolist()\n",
    "    ###print (\"Cluster \" + str(i) + \" reviews: \" + str(len(cluster_reviews)) + \" reviews \")\n",
    "    ###print (\", \".join(cluster_reviews))\n",
    "    ###print ()"
   ]
  },
  {
   "cell_type": "code",
   "execution_count": 38,
   "metadata": {},
   "outputs": [],
   "source": [
    "df_Cluster_keywords = pd.DataFrame(Cluster_keywords_summary).transpose()\n",
    "df_Cluster_keywords.columns = [\"Word\" + str(i) for i in range(df_Cluster_keywords.shape[1])]\n",
    "df_Cluster_keywords.index = [\"Topic\" + str(i) for i in range(df_Cluster_keywords.shape[0])]"
   ]
  },
  {
   "cell_type": "code",
   "execution_count": 39,
   "metadata": {},
   "outputs": [
    {
     "data": {
      "text/html": [
       "<div>\n",
       "<style scoped>\n",
       "    .dataframe tbody tr th:only-of-type {\n",
       "        vertical-align: middle;\n",
       "    }\n",
       "\n",
       "    .dataframe tbody tr th {\n",
       "        vertical-align: top;\n",
       "    }\n",
       "\n",
       "    .dataframe thead th {\n",
       "        text-align: right;\n",
       "    }\n",
       "</style>\n",
       "<table border=\"1\" class=\"dataframe\">\n",
       "  <thead>\n",
       "    <tr style=\"text-align: right;\">\n",
       "      <th></th>\n",
       "      <th>Word0</th>\n",
       "      <th>Word1</th>\n",
       "      <th>Word2</th>\n",
       "      <th>Word3</th>\n",
       "      <th>Word4</th>\n",
       "      <th>Word5</th>\n",
       "    </tr>\n",
       "  </thead>\n",
       "  <tbody>\n",
       "    <tr>\n",
       "      <th>Topic0</th>\n",
       "      <td>great</td>\n",
       "      <td>look</td>\n",
       "      <td>work</td>\n",
       "      <td>like</td>\n",
       "      <td>band</td>\n",
       "      <td>perfect</td>\n",
       "    </tr>\n",
       "    <tr>\n",
       "      <th>Topic1</th>\n",
       "      <td>time</td>\n",
       "      <td>wear</td>\n",
       "      <td>day</td>\n",
       "      <td>read</td>\n",
       "      <td>hand</td>\n",
       "      <td>easi</td>\n",
       "    </tr>\n",
       "    <tr>\n",
       "      <th>Topic2</th>\n",
       "      <td>love</td>\n",
       "      <td>wife</td>\n",
       "      <td>look</td>\n",
       "      <td>husband</td>\n",
       "      <td>beauti</td>\n",
       "      <td>gift</td>\n",
       "    </tr>\n",
       "    <tr>\n",
       "      <th>Topic3</th>\n",
       "      <td>nice</td>\n",
       "      <td>price</td>\n",
       "      <td>look</td>\n",
       "      <td>realli</td>\n",
       "      <td>simpl</td>\n",
       "      <td>good</td>\n",
       "    </tr>\n",
       "    <tr>\n",
       "      <th>Topic4</th>\n",
       "      <td>good</td>\n",
       "      <td>product</td>\n",
       "      <td>qualiti</td>\n",
       "      <td>look</td>\n",
       "      <td>price</td>\n",
       "      <td>seller</td>\n",
       "    </tr>\n",
       "  </tbody>\n",
       "</table>\n",
       "</div>"
      ],
      "text/plain": [
       "        Word0    Word1    Word2    Word3   Word4    Word5\n",
       "Topic0  great     look     work     like    band  perfect\n",
       "Topic1   time     wear      day     read    hand     easi\n",
       "Topic2   love     wife     look  husband  beauti     gift\n",
       "Topic3   nice    price     look   realli   simpl     good\n",
       "Topic4   good  product  qualiti     look   price   seller"
      ]
     },
     "execution_count": 39,
     "metadata": {},
     "output_type": "execute_result"
    }
   ],
   "source": [
    "df_Cluster_keywords"
   ]
  },
  {
   "cell_type": "markdown",
   "metadata": {},
   "source": [
    "## LDA"
   ]
  },
  {
   "cell_type": "markdown",
   "metadata": {},
   "source": [
    "Latent Dirichlet Allocation (LDA) is a generative statistical model, a model of the joint probability distribution ${\\displaystyle P(X,Y)}$ on given observable variable X and target variable Y. It allows sets of observations to be explained by unobserved groups that explain why some parts of the data are similar. <br>\n",
    "\n",
    "If observations are words collected into documents, it posits that 1) each document is a mixture of a small number of topics and 2) each word's presence is attributable to one of the document's topics <br>\n",
    "\n",
    "LDA is an example of a topic model. In LDA, each document is assumed to be characterized by a particular set of topics. <br>\n",
    "\n",
    "If ${\\displaystyle doc \\times word}$ is the input data, LDA transforms it into 2 matrices: ${\\displaystyle doc \\times topic}$ and ${\\displaystyle topic \\times word}$. <br>\n",
    "\n",
    "**LDA vs. K-means**\n",
    "\n",
    "If both are applied to assign K topics to a set of N documents, the most evident difference is that K-means is going to partition the N documents in K disjoint clusters. However, LDA assigns a document to a mixture of topics. That is, each document is characterized by one or more topics (e.g. Document D belongs for 60% to Topic A, 30% to topic B and 10% to topic C). <br>\n",
    "Hence, LDA can give more realistic results than k-means for topic assignment."
   ]
  },
  {
   "cell_type": "code",
   "execution_count": 40,
   "metadata": {
    "scrolled": false
   },
   "outputs": [
    {
     "data": {
      "text/html": [
       "<img src=\"https://www.researchgate.net/publication/336065245/figure/fig1/AS:807371718815752@1569503826964/Latent-Dirichlet-allocation-LDA-process-and-its-two-outputs-a-LDA-document.ppm\" width=\"600\" height=\"400\"/>"
      ],
      "text/plain": [
       "<IPython.core.display.Image object>"
      ]
     },
     "execution_count": 40,
     "metadata": {},
     "output_type": "execute_result"
    }
   ],
   "source": [
    "Image(url= \"https://www.researchgate.net/publication/336065245/figure/fig1/AS:807371718815752@1569503826964/Latent-Dirichlet-allocation-LDA-process-and-its-two-outputs-a-LDA-document.ppm\"\n",
    ",width=600, height=400)"
   ]
  },
  {
   "cell_type": "code",
   "execution_count": 41,
   "metadata": {},
   "outputs": [
    {
     "data": {
      "text/html": [
       "<img src=\"https://cdn-images-1.medium.com/max/800/1*a5IlRfBwrv6yVrkj4ExX_g.png\" width=\"300\" height=\"100\"/>"
      ],
      "text/plain": [
       "<IPython.core.display.Image object>"
      ]
     },
     "execution_count": 41,
     "metadata": {},
     "output_type": "execute_result"
    }
   ],
   "source": [
    "Image(url= \"https://cdn-images-1.medium.com/max/800/1*a5IlRfBwrv6yVrkj4ExX_g.png\"\n",
    ",width=300, height=100)"
   ]
  },
  {
   "cell_type": "code",
   "execution_count": 42,
   "metadata": {},
   "outputs": [
    {
     "data": {
      "text/html": [
       "<img src=\"https://www.researchgate.net/publication/343176425/figure/fig1/AS:916645862182912@1595556812172/LDA-topic-modelling-process.ppm\" width=\"600\" height=\"400\"/>"
      ],
      "text/plain": [
       "<IPython.core.display.Image object>"
      ]
     },
     "execution_count": 42,
     "metadata": {},
     "output_type": "execute_result"
    }
   ],
   "source": [
    "Image(url= \"https://www.researchgate.net/publication/343176425/figure/fig1/AS:916645862182912@1595556812172/LDA-topic-modelling-process.ppm\"\n",
    ",width=600, height=400)"
   ]
  },
  {
   "cell_type": "code",
   "execution_count": 43,
   "metadata": {},
   "outputs": [],
   "source": [
    "# use LDA for clustering\n",
    "lda_model = LatentDirichletAllocation(n_components=5, random_state=1991)"
   ]
  },
  {
   "cell_type": "code",
   "execution_count": 44,
   "metadata": {},
   "outputs": [
    {
     "data": {
      "text/plain": [
       "(1000, 239)"
      ]
     },
     "execution_count": 44,
     "metadata": {},
     "output_type": "execute_result"
    }
   ],
   "source": [
    "# doc_word matrix\n",
    "tfidf_matrix.shape"
   ]
  },
  {
   "cell_type": "code",
   "execution_count": 45,
   "metadata": {},
   "outputs": [],
   "source": [
    "# doc-topic matrix\n",
    "doc_topic = lda_model.fit_transform(tfidf_matrix)"
   ]
  },
  {
   "cell_type": "code",
   "execution_count": 46,
   "metadata": {},
   "outputs": [
    {
     "data": {
      "text/plain": [
       "(1000, 5)"
      ]
     },
     "execution_count": 46,
     "metadata": {},
     "output_type": "execute_result"
    }
   ],
   "source": [
    "doc_topic.shape"
   ]
  },
  {
   "cell_type": "code",
   "execution_count": 47,
   "metadata": {},
   "outputs": [
    {
     "data": {
      "text/plain": [
       "array([[0.05950691, 0.53812812, 0.06086787, 0.0598547 , 0.2816424 ],\n",
       "       [0.08399915, 0.66242875, 0.08432227, 0.08400489, 0.08524495],\n",
       "       [0.2       , 0.2       , 0.2       , 0.2       , 0.2       ],\n",
       "       ...,\n",
       "       [0.59983335, 0.10000195, 0.10015176, 0.10000025, 0.10001269],\n",
       "       [0.47905571, 0.06713959, 0.06699435, 0.31998322, 0.06682713],\n",
       "       [0.0672561 , 0.7260046 , 0.06888808, 0.07035559, 0.06749563]])"
      ]
     },
     "execution_count": 47,
     "metadata": {},
     "output_type": "execute_result"
    }
   ],
   "source": [
    "doc_topic"
   ]
  },
  {
   "cell_type": "code",
   "execution_count": 48,
   "metadata": {},
   "outputs": [],
   "source": [
    "# topic-word matrix\n",
    "topic_word = lda_model.components_"
   ]
  },
  {
   "cell_type": "code",
   "execution_count": 49,
   "metadata": {},
   "outputs": [
    {
     "data": {
      "text/plain": [
       "(5, 239)"
      ]
     },
     "execution_count": 49,
     "metadata": {},
     "output_type": "execute_result"
    }
   ],
   "source": [
    "topic_word.shape"
   ]
  },
  {
   "cell_type": "code",
   "execution_count": 50,
   "metadata": {},
   "outputs": [
    {
     "data": {
      "text/plain": [
       "array([[0.20017765, 0.20232328, 0.87620545, ..., 0.20046613, 2.24236221,\n",
       "        3.19430708],\n",
       "       [0.20120433, 0.20672584, 0.20102552, ..., 0.20159425, 2.47888732,\n",
       "        2.5193017 ],\n",
       "       [1.50256865, 0.2001359 , 0.2093817 , ..., 3.94013261, 1.98853381,\n",
       "        1.63803382],\n",
       "       [0.29642298, 0.20096231, 0.20195735, ..., 1.16893045, 0.2018429 ,\n",
       "        0.20289249],\n",
       "       [2.89495347, 7.6856155 , 2.06518506, ..., 1.42457386, 9.14976156,\n",
       "        5.04257037]])"
      ]
     },
     "execution_count": 50,
     "metadata": {},
     "output_type": "execute_result"
    }
   ],
   "source": [
    "topic_word"
   ]
  },
  {
   "cell_type": "code",
   "execution_count": 51,
   "metadata": {},
   "outputs": [],
   "source": [
    "# column names\n",
    "topic_names = [\"Topic\" + str(i) for i in range(lda_model.n_components)]\n",
    "\n",
    "# index names\n",
    "doc_names = [\"Doc\" + str(i) for i in range(len(data))]\n",
    "\n",
    "# create a data frame\n",
    "df_document_topic = pd.DataFrame(np.round(doc_topic,2), columns=topic_names, index=doc_names)\n",
    "\n",
    "# get dominant topic for each document\n",
    "topic = np.argmax(df_document_topic.values, axis=1)\n",
    "## axis=0 represents rows \n",
    "## axis=1 represents columns\n",
    "## vs. np.max(df_document_topic.values, axis=1)\n",
    "\n",
    "df_document_topic['topic'] = topic"
   ]
  },
  {
   "cell_type": "code",
   "execution_count": 52,
   "metadata": {},
   "outputs": [
    {
     "data": {
      "text/html": [
       "<div>\n",
       "<style scoped>\n",
       "    .dataframe tbody tr th:only-of-type {\n",
       "        vertical-align: middle;\n",
       "    }\n",
       "\n",
       "    .dataframe tbody tr th {\n",
       "        vertical-align: top;\n",
       "    }\n",
       "\n",
       "    .dataframe thead th {\n",
       "        text-align: right;\n",
       "    }\n",
       "</style>\n",
       "<table border=\"1\" class=\"dataframe\">\n",
       "  <thead>\n",
       "    <tr style=\"text-align: right;\">\n",
       "      <th></th>\n",
       "      <th>Topic0</th>\n",
       "      <th>Topic1</th>\n",
       "      <th>Topic2</th>\n",
       "      <th>Topic3</th>\n",
       "      <th>Topic4</th>\n",
       "      <th>topic</th>\n",
       "    </tr>\n",
       "  </thead>\n",
       "  <tbody>\n",
       "    <tr>\n",
       "      <th>Doc0</th>\n",
       "      <td>0.06</td>\n",
       "      <td>0.54</td>\n",
       "      <td>0.06</td>\n",
       "      <td>0.06</td>\n",
       "      <td>0.28</td>\n",
       "      <td>1</td>\n",
       "    </tr>\n",
       "    <tr>\n",
       "      <th>Doc1</th>\n",
       "      <td>0.08</td>\n",
       "      <td>0.66</td>\n",
       "      <td>0.08</td>\n",
       "      <td>0.08</td>\n",
       "      <td>0.09</td>\n",
       "      <td>1</td>\n",
       "    </tr>\n",
       "    <tr>\n",
       "      <th>Doc2</th>\n",
       "      <td>0.20</td>\n",
       "      <td>0.20</td>\n",
       "      <td>0.20</td>\n",
       "      <td>0.20</td>\n",
       "      <td>0.20</td>\n",
       "      <td>0</td>\n",
       "    </tr>\n",
       "    <tr>\n",
       "      <th>Doc3</th>\n",
       "      <td>0.06</td>\n",
       "      <td>0.06</td>\n",
       "      <td>0.06</td>\n",
       "      <td>0.06</td>\n",
       "      <td>0.76</td>\n",
       "      <td>4</td>\n",
       "    </tr>\n",
       "    <tr>\n",
       "      <th>Doc4</th>\n",
       "      <td>0.19</td>\n",
       "      <td>0.04</td>\n",
       "      <td>0.04</td>\n",
       "      <td>0.04</td>\n",
       "      <td>0.70</td>\n",
       "      <td>4</td>\n",
       "    </tr>\n",
       "    <tr>\n",
       "      <th>Doc5</th>\n",
       "      <td>0.08</td>\n",
       "      <td>0.36</td>\n",
       "      <td>0.41</td>\n",
       "      <td>0.07</td>\n",
       "      <td>0.08</td>\n",
       "      <td>2</td>\n",
       "    </tr>\n",
       "    <tr>\n",
       "      <th>Doc6</th>\n",
       "      <td>0.54</td>\n",
       "      <td>0.07</td>\n",
       "      <td>0.06</td>\n",
       "      <td>0.06</td>\n",
       "      <td>0.27</td>\n",
       "      <td>0</td>\n",
       "    </tr>\n",
       "    <tr>\n",
       "      <th>Doc7</th>\n",
       "      <td>0.06</td>\n",
       "      <td>0.75</td>\n",
       "      <td>0.06</td>\n",
       "      <td>0.06</td>\n",
       "      <td>0.06</td>\n",
       "      <td>1</td>\n",
       "    </tr>\n",
       "    <tr>\n",
       "      <th>Doc8</th>\n",
       "      <td>0.05</td>\n",
       "      <td>0.05</td>\n",
       "      <td>0.36</td>\n",
       "      <td>0.05</td>\n",
       "      <td>0.50</td>\n",
       "      <td>4</td>\n",
       "    </tr>\n",
       "    <tr>\n",
       "      <th>Doc9</th>\n",
       "      <td>0.06</td>\n",
       "      <td>0.67</td>\n",
       "      <td>0.06</td>\n",
       "      <td>0.06</td>\n",
       "      <td>0.16</td>\n",
       "      <td>1</td>\n",
       "    </tr>\n",
       "  </tbody>\n",
       "</table>\n",
       "</div>"
      ],
      "text/plain": [
       "      Topic0  Topic1  Topic2  Topic3  Topic4  topic\n",
       "Doc0    0.06    0.54    0.06    0.06    0.28      1\n",
       "Doc1    0.08    0.66    0.08    0.08    0.09      1\n",
       "Doc2    0.20    0.20    0.20    0.20    0.20      0\n",
       "Doc3    0.06    0.06    0.06    0.06    0.76      4\n",
       "Doc4    0.19    0.04    0.04    0.04    0.70      4\n",
       "Doc5    0.08    0.36    0.41    0.07    0.08      2\n",
       "Doc6    0.54    0.07    0.06    0.06    0.27      0\n",
       "Doc7    0.06    0.75    0.06    0.06    0.06      1\n",
       "Doc8    0.05    0.05    0.36    0.05    0.50      4\n",
       "Doc9    0.06    0.67    0.06    0.06    0.16      1"
      ]
     },
     "execution_count": 52,
     "metadata": {},
     "output_type": "execute_result"
    }
   ],
   "source": [
    "df_document_topic.head(10)"
   ]
  },
  {
   "cell_type": "code",
   "execution_count": 53,
   "metadata": {},
   "outputs": [
    {
     "data": {
      "text/html": [
       "<div>\n",
       "<style scoped>\n",
       "    .dataframe tbody tr th:only-of-type {\n",
       "        vertical-align: middle;\n",
       "    }\n",
       "\n",
       "    .dataframe tbody tr th {\n",
       "        vertical-align: top;\n",
       "    }\n",
       "\n",
       "    .dataframe thead th {\n",
       "        text-align: right;\n",
       "    }\n",
       "</style>\n",
       "<table border=\"1\" class=\"dataframe\">\n",
       "  <thead>\n",
       "    <tr style=\"text-align: right;\">\n",
       "      <th></th>\n",
       "      <th>topic</th>\n",
       "    </tr>\n",
       "  </thead>\n",
       "  <tbody>\n",
       "    <tr>\n",
       "      <th>4</th>\n",
       "      <td>312</td>\n",
       "    </tr>\n",
       "    <tr>\n",
       "      <th>0</th>\n",
       "      <td>204</td>\n",
       "    </tr>\n",
       "    <tr>\n",
       "      <th>3</th>\n",
       "      <td>175</td>\n",
       "    </tr>\n",
       "    <tr>\n",
       "      <th>1</th>\n",
       "      <td>166</td>\n",
       "    </tr>\n",
       "    <tr>\n",
       "      <th>2</th>\n",
       "      <td>143</td>\n",
       "    </tr>\n",
       "  </tbody>\n",
       "</table>\n",
       "</div>"
      ],
      "text/plain": [
       "   topic\n",
       "4    312\n",
       "0    204\n",
       "3    175\n",
       "1    166\n",
       "2    143"
      ]
     },
     "execution_count": 53,
     "metadata": {},
     "output_type": "execute_result"
    }
   ],
   "source": [
    "df_document_topic['topic'].value_counts().to_frame()"
   ]
  },
  {
   "cell_type": "code",
   "execution_count": 54,
   "metadata": {},
   "outputs": [],
   "source": [
    "df_topic_words = pd.DataFrame(topic_word)\n",
    "df_topic_words.columns = tf_selected_words\n",
    "df_topic_words.index = topic_names"
   ]
  },
  {
   "cell_type": "code",
   "execution_count": 55,
   "metadata": {},
   "outputs": [
    {
     "data": {
      "text/html": [
       "<div>\n",
       "<style scoped>\n",
       "    .dataframe tbody tr th:only-of-type {\n",
       "        vertical-align: middle;\n",
       "    }\n",
       "\n",
       "    .dataframe tbody tr th {\n",
       "        vertical-align: top;\n",
       "    }\n",
       "\n",
       "    .dataframe thead th {\n",
       "        text-align: right;\n",
       "    }\n",
       "</style>\n",
       "<table border=\"1\" class=\"dataframe\">\n",
       "  <thead>\n",
       "    <tr style=\"text-align: right;\">\n",
       "      <th></th>\n",
       "      <th>abl</th>\n",
       "      <th>absolut</th>\n",
       "      <th>accur</th>\n",
       "      <th>actual</th>\n",
       "      <th>adjust</th>\n",
       "      <th>alarm</th>\n",
       "      <th>alreadi</th>\n",
       "      <th>alway</th>\n",
       "      <th>amaz</th>\n",
       "      <th>amazon</th>\n",
       "      <th>...</th>\n",
       "      <th>weight</th>\n",
       "      <th>went</th>\n",
       "      <th>wife</th>\n",
       "      <th>wind</th>\n",
       "      <th>wish</th>\n",
       "      <th>work</th>\n",
       "      <th>worn</th>\n",
       "      <th>worth</th>\n",
       "      <th>wrist</th>\n",
       "      <th>year</th>\n",
       "    </tr>\n",
       "  </thead>\n",
       "  <tbody>\n",
       "    <tr>\n",
       "      <th>Topic0</th>\n",
       "      <td>0.200178</td>\n",
       "      <td>0.202323</td>\n",
       "      <td>0.876205</td>\n",
       "      <td>0.200830</td>\n",
       "      <td>0.200176</td>\n",
       "      <td>0.200273</td>\n",
       "      <td>1.037010</td>\n",
       "      <td>0.201194</td>\n",
       "      <td>8.250275</td>\n",
       "      <td>0.293153</td>\n",
       "      <td>...</td>\n",
       "      <td>0.205074</td>\n",
       "      <td>0.208047</td>\n",
       "      <td>0.202356</td>\n",
       "      <td>0.200096</td>\n",
       "      <td>0.200167</td>\n",
       "      <td>1.706322</td>\n",
       "      <td>0.200049</td>\n",
       "      <td>0.200466</td>\n",
       "      <td>2.242362</td>\n",
       "      <td>3.194307</td>\n",
       "    </tr>\n",
       "    <tr>\n",
       "      <th>Topic1</th>\n",
       "      <td>0.201204</td>\n",
       "      <td>0.206726</td>\n",
       "      <td>0.201026</td>\n",
       "      <td>2.803450</td>\n",
       "      <td>0.201914</td>\n",
       "      <td>1.167272</td>\n",
       "      <td>0.859890</td>\n",
       "      <td>3.566437</td>\n",
       "      <td>0.200737</td>\n",
       "      <td>2.052761</td>\n",
       "      <td>...</td>\n",
       "      <td>0.868185</td>\n",
       "      <td>0.202930</td>\n",
       "      <td>0.200692</td>\n",
       "      <td>0.200444</td>\n",
       "      <td>3.760299</td>\n",
       "      <td>1.797782</td>\n",
       "      <td>0.200999</td>\n",
       "      <td>0.201594</td>\n",
       "      <td>2.478887</td>\n",
       "      <td>2.519302</td>\n",
       "    </tr>\n",
       "    <tr>\n",
       "      <th>Topic2</th>\n",
       "      <td>1.502569</td>\n",
       "      <td>0.200136</td>\n",
       "      <td>0.209382</td>\n",
       "      <td>1.333917</td>\n",
       "      <td>0.200691</td>\n",
       "      <td>1.825499</td>\n",
       "      <td>2.267823</td>\n",
       "      <td>0.204002</td>\n",
       "      <td>0.202399</td>\n",
       "      <td>0.410212</td>\n",
       "      <td>...</td>\n",
       "      <td>1.864641</td>\n",
       "      <td>0.201754</td>\n",
       "      <td>0.201179</td>\n",
       "      <td>0.200671</td>\n",
       "      <td>0.206354</td>\n",
       "      <td>0.321058</td>\n",
       "      <td>1.414495</td>\n",
       "      <td>3.940133</td>\n",
       "      <td>1.988534</td>\n",
       "      <td>1.638034</td>\n",
       "    </tr>\n",
       "    <tr>\n",
       "      <th>Topic3</th>\n",
       "      <td>0.296423</td>\n",
       "      <td>0.200962</td>\n",
       "      <td>0.201957</td>\n",
       "      <td>0.694169</td>\n",
       "      <td>2.211366</td>\n",
       "      <td>0.203925</td>\n",
       "      <td>0.200546</td>\n",
       "      <td>0.662416</td>\n",
       "      <td>0.200845</td>\n",
       "      <td>1.800083</td>\n",
       "      <td>...</td>\n",
       "      <td>0.200753</td>\n",
       "      <td>1.296837</td>\n",
       "      <td>0.200781</td>\n",
       "      <td>0.200227</td>\n",
       "      <td>0.200371</td>\n",
       "      <td>25.352876</td>\n",
       "      <td>0.200127</td>\n",
       "      <td>1.168930</td>\n",
       "      <td>0.201843</td>\n",
       "      <td>0.202892</td>\n",
       "    </tr>\n",
       "    <tr>\n",
       "      <th>Topic4</th>\n",
       "      <td>2.894953</td>\n",
       "      <td>7.685616</td>\n",
       "      <td>2.065185</td>\n",
       "      <td>0.824030</td>\n",
       "      <td>3.479024</td>\n",
       "      <td>2.543441</td>\n",
       "      <td>1.398101</td>\n",
       "      <td>0.205955</td>\n",
       "      <td>1.914578</td>\n",
       "      <td>2.246331</td>\n",
       "      <td>...</td>\n",
       "      <td>2.579710</td>\n",
       "      <td>1.807606</td>\n",
       "      <td>11.837390</td>\n",
       "      <td>3.432270</td>\n",
       "      <td>0.203318</td>\n",
       "      <td>11.883630</td>\n",
       "      <td>2.187422</td>\n",
       "      <td>1.424574</td>\n",
       "      <td>9.149762</td>\n",
       "      <td>5.042570</td>\n",
       "    </tr>\n",
       "  </tbody>\n",
       "</table>\n",
       "<p>5 rows × 239 columns</p>\n",
       "</div>"
      ],
      "text/plain": [
       "             abl   absolut     accur    actual    adjust     alarm   alreadi  \\\n",
       "Topic0  0.200178  0.202323  0.876205  0.200830  0.200176  0.200273  1.037010   \n",
       "Topic1  0.201204  0.206726  0.201026  2.803450  0.201914  1.167272  0.859890   \n",
       "Topic2  1.502569  0.200136  0.209382  1.333917  0.200691  1.825499  2.267823   \n",
       "Topic3  0.296423  0.200962  0.201957  0.694169  2.211366  0.203925  0.200546   \n",
       "Topic4  2.894953  7.685616  2.065185  0.824030  3.479024  2.543441  1.398101   \n",
       "\n",
       "           alway      amaz    amazon  ...    weight      went       wife  \\\n",
       "Topic0  0.201194  8.250275  0.293153  ...  0.205074  0.208047   0.202356   \n",
       "Topic1  3.566437  0.200737  2.052761  ...  0.868185  0.202930   0.200692   \n",
       "Topic2  0.204002  0.202399  0.410212  ...  1.864641  0.201754   0.201179   \n",
       "Topic3  0.662416  0.200845  1.800083  ...  0.200753  1.296837   0.200781   \n",
       "Topic4  0.205955  1.914578  2.246331  ...  2.579710  1.807606  11.837390   \n",
       "\n",
       "            wind      wish       work      worn     worth     wrist      year  \n",
       "Topic0  0.200096  0.200167   1.706322  0.200049  0.200466  2.242362  3.194307  \n",
       "Topic1  0.200444  3.760299   1.797782  0.200999  0.201594  2.478887  2.519302  \n",
       "Topic2  0.200671  0.206354   0.321058  1.414495  3.940133  1.988534  1.638034  \n",
       "Topic3  0.200227  0.200371  25.352876  0.200127  1.168930  0.201843  0.202892  \n",
       "Topic4  3.432270  0.203318  11.883630  2.187422  1.424574  9.149762  5.042570  \n",
       "\n",
       "[5 rows x 239 columns]"
      ]
     },
     "execution_count": 55,
     "metadata": {},
     "output_type": "execute_result"
    }
   ],
   "source": [
    "df_topic_words"
   ]
  },
  {
   "cell_type": "code",
   "execution_count": 56,
   "metadata": {},
   "outputs": [],
   "source": [
    "# top keywords for each topic\n",
    "def top_topic_words (tfidf_model, lda_model, n_words):\n",
    "    words = np.array(tfidf_model.get_feature_names())\n",
    "    topic_words = []\n",
    "    # for each topic, we have weight for each word\n",
    "    for topic_words_weights in lda_model.components_:\n",
    "        top_words = topic_words_weights.argsort()[::-1][:n_words]\n",
    "        topic_words.append(words.take(top_words))\n",
    "    return pd.DataFrame(topic_words) "
   ]
  },
  {
   "cell_type": "code",
   "execution_count": 57,
   "metadata": {},
   "outputs": [],
   "source": [
    "df_topic_words = top_topic_words(tfidf_model, lda_model, 15)"
   ]
  },
  {
   "cell_type": "code",
   "execution_count": 58,
   "metadata": {},
   "outputs": [],
   "source": [
    "df_topic_words.columns = [\"Word\" + str(i) for i in range(df_topic_words.shape[1])]\n",
    "df_topic_words.index = [\"Topic\" + str(i) for i in range(df_topic_words.shape[0])]"
   ]
  },
  {
   "cell_type": "code",
   "execution_count": 59,
   "metadata": {},
   "outputs": [
    {
     "data": {
      "text/html": [
       "<div>\n",
       "<style scoped>\n",
       "    .dataframe tbody tr th:only-of-type {\n",
       "        vertical-align: middle;\n",
       "    }\n",
       "\n",
       "    .dataframe tbody tr th {\n",
       "        vertical-align: top;\n",
       "    }\n",
       "\n",
       "    .dataframe thead th {\n",
       "        text-align: right;\n",
       "    }\n",
       "</style>\n",
       "<table border=\"1\" class=\"dataframe\">\n",
       "  <thead>\n",
       "    <tr style=\"text-align: right;\">\n",
       "      <th></th>\n",
       "      <th>Word0</th>\n",
       "      <th>Word1</th>\n",
       "      <th>Word2</th>\n",
       "      <th>Word3</th>\n",
       "      <th>Word4</th>\n",
       "      <th>Word5</th>\n",
       "      <th>Word6</th>\n",
       "      <th>Word7</th>\n",
       "      <th>Word8</th>\n",
       "      <th>Word9</th>\n",
       "      <th>Word10</th>\n",
       "      <th>Word11</th>\n",
       "      <th>Word12</th>\n",
       "      <th>Word13</th>\n",
       "      <th>Word14</th>\n",
       "    </tr>\n",
       "  </thead>\n",
       "  <tbody>\n",
       "    <tr>\n",
       "      <th>Topic0</th>\n",
       "      <td>good</td>\n",
       "      <td>great</td>\n",
       "      <td>look</td>\n",
       "      <td>band</td>\n",
       "      <td>beauti</td>\n",
       "      <td>love</td>\n",
       "      <td>pictur</td>\n",
       "      <td>price</td>\n",
       "      <td>qualiti</td>\n",
       "      <td>big</td>\n",
       "      <td>amaz</td>\n",
       "      <td>cheap</td>\n",
       "      <td>deal</td>\n",
       "      <td>broke</td>\n",
       "      <td>feel</td>\n",
       "    </tr>\n",
       "    <tr>\n",
       "      <th>Topic1</th>\n",
       "      <td>love</td>\n",
       "      <td>like</td>\n",
       "      <td>gift</td>\n",
       "      <td>bought</td>\n",
       "      <td>larg</td>\n",
       "      <td>husband</td>\n",
       "      <td>watch</td>\n",
       "      <td>buy</td>\n",
       "      <td>beauti</td>\n",
       "      <td>pretti</td>\n",
       "      <td>compliment</td>\n",
       "      <td>realli</td>\n",
       "      <td>stylish</td>\n",
       "      <td>color</td>\n",
       "      <td>time</td>\n",
       "    </tr>\n",
       "    <tr>\n",
       "      <th>Topic2</th>\n",
       "      <td>expect</td>\n",
       "      <td>light</td>\n",
       "      <td>realli</td>\n",
       "      <td>comfort</td>\n",
       "      <td>nice</td>\n",
       "      <td>awesom</td>\n",
       "      <td>price</td>\n",
       "      <td>look</td>\n",
       "      <td>wear</td>\n",
       "      <td>band</td>\n",
       "      <td>color</td>\n",
       "      <td>thank</td>\n",
       "      <td>valu</td>\n",
       "      <td>face</td>\n",
       "      <td>blue</td>\n",
       "    </tr>\n",
       "    <tr>\n",
       "      <th>Topic3</th>\n",
       "      <td>work</td>\n",
       "      <td>excel</td>\n",
       "      <td>product</td>\n",
       "      <td>perfect</td>\n",
       "      <td>recommend</td>\n",
       "      <td>fast</td>\n",
       "      <td>ship</td>\n",
       "      <td>deliveri</td>\n",
       "      <td>tri</td>\n",
       "      <td>day</td>\n",
       "      <td>nice</td>\n",
       "      <td>qualiti</td>\n",
       "      <td>money</td>\n",
       "      <td>exact</td>\n",
       "      <td>simpl</td>\n",
       "    </tr>\n",
       "    <tr>\n",
       "      <th>Topic4</th>\n",
       "      <td>nice</td>\n",
       "      <td>time</td>\n",
       "      <td>look</td>\n",
       "      <td>band</td>\n",
       "      <td>batteri</td>\n",
       "      <td>strap</td>\n",
       "      <td>work</td>\n",
       "      <td>wife</td>\n",
       "      <td>hand</td>\n",
       "      <td>love</td>\n",
       "      <td>fit</td>\n",
       "      <td>use</td>\n",
       "      <td>easi</td>\n",
       "      <td>set</td>\n",
       "      <td>littl</td>\n",
       "    </tr>\n",
       "  </tbody>\n",
       "</table>\n",
       "</div>"
      ],
      "text/plain": [
       "         Word0  Word1    Word2    Word3      Word4    Word5   Word6     Word7  \\\n",
       "Topic0    good  great     look     band     beauti     love  pictur     price   \n",
       "Topic1    love   like     gift   bought       larg  husband   watch       buy   \n",
       "Topic2  expect  light   realli  comfort       nice   awesom   price      look   \n",
       "Topic3    work  excel  product  perfect  recommend     fast    ship  deliveri   \n",
       "Topic4    nice   time     look     band    batteri    strap    work      wife   \n",
       "\n",
       "          Word8   Word9      Word10   Word11   Word12 Word13 Word14  \n",
       "Topic0  qualiti     big        amaz    cheap     deal  broke   feel  \n",
       "Topic1   beauti  pretti  compliment   realli  stylish  color   time  \n",
       "Topic2     wear    band       color    thank     valu   face   blue  \n",
       "Topic3      tri     day        nice  qualiti    money  exact  simpl  \n",
       "Topic4     hand    love         fit      use     easi    set  littl  "
      ]
     },
     "execution_count": 59,
     "metadata": {},
     "output_type": "execute_result"
    }
   ],
   "source": [
    "df_topic_words"
   ]
  },
  {
   "cell_type": "code",
   "execution_count": null,
   "metadata": {},
   "outputs": [],
   "source": []
  }
 ],
 "metadata": {
  "kernelspec": {
   "display_name": "Python 3 (ipykernel)",
   "language": "python",
   "name": "python3"
  },
  "language_info": {
   "codemirror_mode": {
    "name": "ipython",
    "version": 3
   },
   "file_extension": ".py",
   "mimetype": "text/x-python",
   "name": "python",
   "nbconvert_exporter": "python",
   "pygments_lexer": "ipython3",
   "version": "3.11.5"
  },
  "toc": {
   "base_numbering": 1,
   "nav_menu": {},
   "number_sections": false,
   "sideBar": true,
   "skip_h1_title": false,
   "title_cell": "Table of Contents",
   "title_sidebar": "Contents",
   "toc_cell": false,
   "toc_position": {},
   "toc_section_display": true,
   "toc_window_display": false
  }
 },
 "nbformat": 4,
 "nbformat_minor": 2
}
